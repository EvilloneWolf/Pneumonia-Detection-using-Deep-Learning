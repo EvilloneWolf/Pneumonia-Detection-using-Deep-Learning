{
 "cells": [
  {
   "cell_type": "code",
   "execution_count": 1,
   "id": "0d35edf8",
   "metadata": {},
   "outputs": [],
   "source": [
    "import os\n",
    "import numpy as np\n",
    "import pandas as pd \n",
    "import matplotlib.pyplot as plt\n",
    "import tensorflow as tf\n",
    "from tensorflow import keras"
   ]
  },
  {
   "cell_type": "code",
   "execution_count": 2,
   "id": "2ad3c89e",
   "metadata": {},
   "outputs": [],
   "source": [
    "train_dir = \"chest_xray/train\"\n",
    "test_dir = \"chest_xray/test\"\n",
    "val_dir = \"chest_xray/val\"\n",
    "num_pneumonia = len(os.listdir(os.path.join(train_dir, 'PNEUMONIA')))\n",
    "num_normal = len(os.listdir(os.path.join(train_dir, 'NORMAL')))\n",
    "pneumonia = os.listdir(\"chest_xray/train/PNEUMONIA\")\n",
    "pneumonia_dir = \"chest_xray/train/PNEUMONIA\"\n",
    "normal = os.listdir(\"chest_xray/train/NORMAL\")\n",
    "normal_dir = \"chest_xray/train/NORMAL\""
   ]
  },
  {
   "cell_type": "code",
   "execution_count": 3,
   "id": "71fb5a23",
   "metadata": {},
   "outputs": [
    {
     "name": "stdout",
     "output_type": "stream",
     "text": [
      "Found 5216 images belonging to 2 classes.\n",
      "Found 16 images belonging to 2 classes.\n",
      "Found 624 images belonging to 2 classes.\n"
     ]
    }
   ],
   "source": [
    "from keras.preprocessing.image import ImageDataGenerator\n",
    "\n",
    "image_generator = ImageDataGenerator(\n",
    "    rotation_range=25,\n",
    "    width_shift_range=0.2,\n",
    "    shear_range=0.2,\n",
    "    zoom_range=0.2,\n",
    "    samplewise_center=True,\n",
    "    samplewise_std_normalization=True\n",
    ")\n",
    "train = image_generator.flow_from_directory(train_dir, \n",
    "                                            batch_size=8, \n",
    "                                            shuffle=True, \n",
    "                                            class_mode='binary',\n",
    "                                            target_size=(180, 180))\n",
    "\n",
    "validation = image_generator.flow_from_directory(val_dir, \n",
    "                                                batch_size=1, \n",
    "                                                shuffle=False, \n",
    "                                                class_mode='binary',\n",
    "                                                target_size=(180, 180))\n",
    "\n",
    "test = image_generator.flow_from_directory(test_dir, \n",
    "                                            batch_size=1, \n",
    "                                            shuffle=False, \n",
    "                                            class_mode='binary',\n",
    "                                            target_size=(180, 180))"
   ]
  },
  {
   "cell_type": "code",
   "execution_count": 4,
   "id": "7d2a27d7",
   "metadata": {},
   "outputs": [],
   "source": [
    "train_dataset = tf.data.Dataset.from_generator(lambda: train,\n",
    "                                               output_types=(tf.float32, tf.float32),\n",
    "                                               output_shapes=([None, 180, 180, 3], [None]))\n",
    "train_dataset = train_dataset.repeat()\n",
    "\n",
    "\n",
    "validation_dataset = tf.data.Dataset.from_generator(lambda: validation,\n",
    "                                               output_types=(tf.float32, tf.float32),\n",
    "                                               output_shapes=([None, 180, 180, 3], [None]))\n",
    "validation_dataset = validation_dataset.repeat()\n",
    "\n",
    "\n",
    "test_dataset = tf.data.Dataset.from_generator(lambda: test,\n",
    "                                               output_types=(tf.float32, tf.float32),\n",
    "                                               output_shapes=([None, 180, 180, 3], [None]))\n",
    "test_dataset = test_dataset.repeat()"
   ]
  },
  {
   "cell_type": "code",
   "execution_count": 5,
   "id": "b6ed33a6",
   "metadata": {},
   "outputs": [],
   "source": [
    "# Class weights\n",
    "\n",
    "weight_for_0 = num_pneumonia / (num_normal + num_pneumonia)\n",
    "weight_for_1 = num_normal / (num_normal + num_pneumonia)\n",
    "\n",
    "class_weight = {0: weight_for_0, 1: weight_for_1}"
   ]
  },
  {
   "cell_type": "code",
   "execution_count": 6,
   "id": "9b9ba7aa",
   "metadata": {},
   "outputs": [],
   "source": [
    "from keras.models import Sequential\n",
    "from keras.applications import VGG16\n",
    "from keras.applications.densenet import DenseNet121\n",
    "from keras.layers import Dense, GlobalAveragePooling2D, BatchNormalization, Dropout"
   ]
  },
  {
   "cell_type": "code",
   "execution_count": 7,
   "id": "cec05b82",
   "metadata": {},
   "outputs": [],
   "source": [
    "from keras.applications import InceptionV3\n",
    "\n",
    "inception_base_model = InceptionV3(input_shape=(180,180,3),include_top=False,weights='imagenet')"
   ]
  },
  {
   "cell_type": "code",
   "execution_count": 8,
   "id": "583249cd",
   "metadata": {},
   "outputs": [],
   "source": [
    "    inception_model = Sequential([\n",
    "        inception_base_model,\n",
    "        GlobalAveragePooling2D(),\n",
    "        Dense(512, activation=\"relu\"),\n",
    "        BatchNormalization(),\n",
    "        Dropout(0.6),\n",
    "        Dense(128, activation=\"relu\"),\n",
    "        BatchNormalization(),\n",
    "        Dropout(0.5),\n",
    "        Dense(64,activation=\"relu\"),\n",
    "        BatchNormalization(),\n",
    "        Dropout(0.4),\n",
    "        Dense(1,activation=\"sigmoid\")\n",
    "    ])\n",
    "\n",
    "    opt = tf.keras.optimizers.Adam(learning_rate=0.001)\n",
    "    METRICS = [\n",
    "        'accuracy',\n",
    "        tf.keras.metrics.Precision(name='precision'),\n",
    "        tf.keras.metrics.Recall(name='recall')\n",
    "    ]\n",
    "    inception_model.compile(optimizer=opt,loss='binary_crossentropy',metrics=METRICS)"
   ]
  },
  {
   "cell_type": "code",
   "execution_count": 9,
   "id": "6994eaef",
   "metadata": {
    "scrolled": true
   },
   "outputs": [
    {
     "name": "stdout",
     "output_type": "stream",
     "text": [
      "Epoch 1/30\n",
      "250/250 [==============================] - 392s 1s/step - loss: 0.3312 - accuracy: 0.5555 - precision: 0.8036 - recall: 0.5412 - val_loss: 189.6697 - val_accuracy: 0.5192 - val_precision: 0.4898 - val_recall: 1.0000\n",
      "Epoch 2/30\n",
      "250/250 [==============================] - 376s 2s/step - loss: 0.2574 - accuracy: 0.6675 - precision: 0.8584 - recall: 0.6521 - val_loss: 12.9767 - val_accuracy: 0.5385 - val_precision: 0.0000e+00 - val_recall: 0.0000e+00\n",
      "Epoch 3/30\n",
      "250/250 [==============================] - 334s 1s/step - loss: 0.2044 - accuracy: 0.7315 - precision: 0.9170 - recall: 0.7062 - val_loss: 0.8799 - val_accuracy: 0.5769 - val_precision: 0.5625 - val_recall: 0.9643\n",
      "Epoch 4/30\n",
      "250/250 [==============================] - 328s 1s/step - loss: 0.1798 - accuracy: 0.7910 - precision: 0.9282 - recall: 0.7777 - val_loss: 0.9848 - val_accuracy: 0.5577 - val_precision: 0.6471 - val_recall: 0.3929\n",
      "Epoch 5/30\n",
      "250/250 [==============================] - 338s 1s/step - loss: 0.1649 - accuracy: 0.8005 - precision: 0.9363 - recall: 0.7865 - val_loss: 1.0731 - val_accuracy: 0.5577 - val_precision: 0.5111 - val_recall: 0.9583\n",
      "Epoch 6/30\n",
      "250/250 [==============================] - 354s 1s/step - loss: 0.1397 - accuracy: 0.8425 - precision: 0.9512 - recall: 0.8298 - val_loss: 0.8462 - val_accuracy: 0.5577 - val_precision: 0.5116 - val_recall: 0.9167\n",
      "Epoch 7/30\n",
      "250/250 [==============================] - 346s 1s/step - loss: 0.1386 - accuracy: 0.8520 - precision: 0.9550 - recall: 0.8381 - val_loss: 0.8154 - val_accuracy: 0.5962 - val_precision: 1.0000 - val_recall: 0.2500\n",
      "Epoch 8/30\n",
      "250/250 [==============================] - 354s 1s/step - loss: 0.1371 - accuracy: 0.8525 - precision: 0.9570 - recall: 0.8422 - val_loss: 0.6656 - val_accuracy: 0.6731 - val_precision: 0.6341 - val_recall: 0.9286\n",
      "Epoch 9/30\n",
      "250/250 [==============================] - 347s 1s/step - loss: 0.1326 - accuracy: 0.8600 - precision: 0.9556 - recall: 0.8489 - val_loss: 0.6478 - val_accuracy: 0.7500 - val_precision: 0.6571 - val_recall: 0.9583\n",
      "Epoch 10/30\n",
      "250/250 [==============================] - 353s 1s/step - loss: 0.1232 - accuracy: 0.8620 - precision: 0.9639 - recall: 0.8457 - val_loss: 0.5687 - val_accuracy: 0.7500 - val_precision: 0.6774 - val_recall: 0.8750\n",
      "Epoch 11/30\n",
      "250/250 [==============================] - 334s 1s/step - loss: 0.1333 - accuracy: 0.8570 - precision: 0.9596 - recall: 0.8438 - val_loss: 0.5214 - val_accuracy: 0.7115 - val_precision: 0.7826 - val_recall: 0.6429\n",
      "Epoch 12/30\n",
      "250/250 [==============================] - 335s 1s/step - loss: 0.1229 - accuracy: 0.8565 - precision: 0.9644 - recall: 0.8378 - val_loss: 0.5534 - val_accuracy: 0.7308 - val_precision: 0.6842 - val_recall: 0.9286\n",
      "Epoch 13/30\n",
      "250/250 [==============================] - 340s 1s/step - loss: 0.1246 - accuracy: 0.8690 - precision: 0.9594 - recall: 0.8597 - val_loss: 0.6661 - val_accuracy: 0.5385 - val_precision: 0.0000e+00 - val_recall: 0.0000e+00\n",
      "Epoch 14/30\n",
      "250/250 [==============================] - 338s 1s/step - loss: 0.1320 - accuracy: 0.8685 - precision: 0.9617 - recall: 0.8578 - val_loss: 1.4203 - val_accuracy: 0.5769 - val_precision: 0.5217 - val_recall: 1.0000\n",
      "Epoch 15/30\n",
      "250/250 [==============================] - 326s 1s/step - loss: 0.1167 - accuracy: 0.8695 - precision: 0.9620 - recall: 0.8570 - val_loss: 0.7545 - val_accuracy: 0.7500 - val_precision: 0.7273 - val_recall: 0.8571\n",
      "Epoch 16/30\n",
      "250/250 [==============================] - 325s 1s/step - loss: 0.1146 - accuracy: 0.8945 - precision: 0.9663 - recall: 0.8887 - val_loss: 1.2117 - val_accuracy: 0.6154 - val_precision: 0.5833 - val_recall: 1.0000\n",
      "Epoch 17/30\n",
      "250/250 [==============================] - 342s 1s/step - loss: 0.1169 - accuracy: 0.8880 - precision: 0.9649 - recall: 0.8824 - val_loss: 0.7488 - val_accuracy: 0.6154 - val_precision: 0.5556 - val_recall: 0.8333\n",
      "Epoch 18/30\n",
      "250/250 [==============================] - 326s 1s/step - loss: 0.1261 - accuracy: 0.8765 - precision: 0.9566 - recall: 0.8737 - val_loss: 0.7209 - val_accuracy: 0.6154 - val_precision: 0.6429 - val_recall: 0.3750\n",
      "Epoch 19/30\n",
      "250/250 [==============================] - 324s 1s/step - loss: 0.1171 - accuracy: 0.8800 - precision: 0.9669 - recall: 0.8678 - val_loss: 1.2749 - val_accuracy: 0.6154 - val_precision: 0.5952 - val_recall: 0.8929\n",
      "Epoch 20/30\n",
      "250/250 [==============================] - 338s 1s/step - loss: 0.1054 - accuracy: 0.8870 - precision: 0.9697 - recall: 0.8730 - val_loss: 0.6267 - val_accuracy: 0.5962 - val_precision: 0.5745 - val_recall: 0.9643\n",
      "Epoch 21/30\n",
      "250/250 [==============================] - 332s 1s/step - loss: 0.1096 - accuracy: 0.8765 - precision: 0.9722 - recall: 0.8603 - val_loss: 2.0130 - val_accuracy: 0.5192 - val_precision: 0.4898 - val_recall: 1.0000\n",
      "Epoch 22/30\n",
      "250/250 [==============================] - 333s 1s/step - loss: 0.1006 - accuracy: 0.8945 - precision: 0.9767 - recall: 0.8785 - val_loss: 0.7291 - val_accuracy: 0.7115 - val_precision: 0.6286 - val_recall: 0.9167\n",
      "Epoch 23/30\n",
      "250/250 [==============================] - 333s 1s/step - loss: 0.1021 - accuracy: 0.8970 - precision: 0.9715 - recall: 0.8883 - val_loss: 0.7632 - val_accuracy: 0.7308 - val_precision: 0.8500 - val_recall: 0.6071\n",
      "Epoch 24/30\n",
      "250/250 [==============================] - 332s 1s/step - loss: 0.1052 - accuracy: 0.8995 - precision: 0.9714 - recall: 0.8910 - val_loss: 0.6886 - val_accuracy: 0.6346 - val_precision: 0.6364 - val_recall: 0.7500\n",
      "Epoch 25/30\n",
      "250/250 [==============================] - 332s 1s/step - loss: 0.1061 - accuracy: 0.8780 - precision: 0.9678 - recall: 0.8653 - val_loss: 0.5509 - val_accuracy: 0.8077 - val_precision: 0.9375 - val_recall: 0.6250\n",
      "Epoch 26/30\n",
      "250/250 [==============================] - 332s 1s/step - loss: 0.1083 - accuracy: 0.8805 - precision: 0.9675 - recall: 0.8672 - val_loss: 1.4341 - val_accuracy: 0.5962 - val_precision: 0.5333 - val_recall: 1.0000\n",
      "Epoch 27/30\n",
      "250/250 [==============================] - 333s 1s/step - loss: 0.1047 - accuracy: 0.8760 - precision: 0.9719 - recall: 0.8587 - val_loss: 1.2988 - val_accuracy: 0.6154 - val_precision: 0.5833 - val_recall: 1.0000\n",
      "Epoch 28/30\n",
      "250/250 [==============================] - 334s 1s/step - loss: 0.1046 - accuracy: 0.8945 - precision: 0.9720 - recall: 0.8841 - val_loss: 0.5365 - val_accuracy: 0.7115 - val_precision: 0.6757 - val_recall: 0.8929\n",
      "Epoch 29/30\n",
      "250/250 [==============================] - 333s 1s/step - loss: 0.0940 - accuracy: 0.9075 - precision: 0.9728 - recall: 0.8993 - val_loss: 0.9035 - val_accuracy: 0.7500 - val_precision: 0.7895 - val_recall: 0.6250\n",
      "Epoch 30/30\n",
      "250/250 [==============================] - 333s 1s/step - loss: 0.0977 - accuracy: 0.9080 - precision: 0.9692 - recall: 0.9055 - val_loss: 1.7395 - val_accuracy: 0.5192 - val_precision: 0.4894 - val_recall: 0.9583\n"
     ]
    }
   ],
   "source": [
    "r = inception_model.fit( train_dataset ,\n",
    "          epochs=30,\n",
    "          validation_data=validation_dataset,\n",
    "          class_weight=class_weight,\n",
    "          steps_per_epoch=250,\n",
    "          validation_steps=52)\n"
   ]
  },
  {
   "cell_type": "code",
   "execution_count": 10,
   "id": "69be2e30",
   "metadata": {},
   "outputs": [
    {
     "data": {
      "text/plain": [
       "Text(0.5, 1.0, 'Accuracy Evolution')"
      ]
     },
     "execution_count": 10,
     "metadata": {},
     "output_type": "execute_result"
    },
    {
     "data": {
      "image/png": "[encoded data removed]",
      "text/plain": [
       "<Figure size 1200x800 with 2 Axes>"
      ]
     },
     "metadata": {},
     "output_type": "display_data"
    }
   ],
   "source": [
    "plt.figure(figsize=(12, 8))\n",
    "\n",
    "plt.subplot(2, 2, 1)\n",
    "plt.plot(r.history['loss'], label='Loss')\n",
    "plt.legend()\n",
    "plt.title('Loss Evolution')\n",
    "\n",
    "plt.subplot(2, 2, 2)\n",
    "plt.plot(r.history['accuracy'], label='Accuracy')\n",
    "plt.legend()\n",
    "plt.title('Accuracy Evolution')"
   ]
  },
  {
   "cell_type": "code",
   "execution_count": 11,
   "id": "a7ea7482",
   "metadata": {},
   "outputs": [
    {
     "name": "stdout",
     "output_type": "stream",
     "text": [
      "624/624 [==============================] - 61s 92ms/step - loss: 1.0070 - accuracy: 0.7532 - precision: 0.7296 - recall: 0.9615\n",
      "Test Accuracy: 75.32%\n",
      "652/652 [==============================] - 255s 391ms/step - loss: 0.3457 - accuracy: 0.9241 - precision: 0.9387 - recall: 0.9605\n",
      "Train Accuracy: 92.41%\n"
     ]
    }
   ],
   "source": [
    "evaluation =inception_model.evaluate(test)\n",
    "print(f\"Test Accuracy: {evaluation[1] * 100:.2f}%\")\n",
    "\n",
    "evaluation = inception_model.evaluate(train)\n",
    "print(f\"Train Accuracy: {evaluation[1] * 100:.2f}%\")"
   ]
  },
  {
   "cell_type": "code",
   "execution_count": 12,
   "id": "f3bc44af",
   "metadata": {},
   "outputs": [
    {
     "name": "stdout",
     "output_type": "stream",
     "text": [
      "624/624 [==============================] - 56s 85ms/step\n",
      "[[175  59]\n",
      " [ 37 353]]\n",
      "              precision    recall  f1-score     support\n",
      "0              0.825472  0.747863  0.784753  234.000000\n",
      "1              0.856796  0.905128  0.880299  390.000000\n",
      "accuracy       0.846154  0.846154  0.846154    0.846154\n",
      "macro avg      0.841134  0.826496  0.832526  624.000000\n",
      "weighted avg   0.845049  0.846154  0.844470  624.000000\n"
     ]
    }
   ],
   "source": [
    "from sklearn.metrics import confusion_matrix, classification_report\n",
    "import pandas as pd\n",
    "\n",
    "pred = inception_model.predict(test)\n",
    "\n",
    "conf_mat = confusion_matrix(test.classes, pred > 0.5)\n",
    "print(conf_mat)\n",
    "\n",
    "class_report = classification_report(test.classes, pred > 0.5, output_dict=True)\n",
    "class_report_df = pd.DataFrame(class_report).transpose()\n",
    "print(class_report_df)\n"
   ]
  },
  {
   "cell_type": "code",
   "execution_count": 13,
   "id": "71f9cc0f",
   "metadata": {},
   "outputs": [
    {
     "name": "stdout",
     "output_type": "stream",
     "text": [
      "done\n"
     ]
    }
   ],
   "source": [
    "inception_model.save('my_model_gn.h5')\n",
    "print(\"done\")"
   ]
  },
  {
   "cell_type": "code",
   "execution_count": null,
   "id": "9f6dd470",
   "metadata": {},
   "outputs": [],
   "source": [
    "#75.96/80.41\n",
    "#74.36/85.20\n",
    "#86.70/88.82\n",
    "#84.46/88.31"
   ]
  },
  {
   "cell_type": "code",
   "execution_count": null,
   "id": "9417c7ea",
   "metadata": {},
   "outputs": [],
   "source": []
  }
 ],
 "metadata": {
  "kernelspec": {
   "display_name": "Python 3 (ipykernel)",
   "language": "python",
   "name": "python3"
  },
  "language_info": {
   "codemirror_mode": {
    "name": "ipython",
    "version": 3
   },
   "file_extension": ".py",
   "mimetype": "text/x-python",
   "name": "python",
   "nbconvert_exporter": "python",
   "pygments_lexer": "ipython3",
   "version": "3.10.9"
  }
 },
 "nbformat": 4,
 "nbformat_minor": 5
}
