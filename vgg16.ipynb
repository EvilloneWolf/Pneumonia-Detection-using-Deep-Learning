{
 "cells": [
  {
   "cell_type": "code",
   "execution_count": 1,
   "id": "6c903aa2",
   "metadata": {},
   "outputs": [],
   "source": [
    "import os\n",
    "import numpy as np\n",
    "import pandas as pd \n",
    "import matplotlib.pyplot as plt\n",
    "import tensorflow as tf\n",
    "from tensorflow import keras"
   ]
  },
  {
   "cell_type": "code",
   "execution_count": 2,
   "id": "ed34bb14",
   "metadata": {},
   "outputs": [],
   "source": [
    "train_dir = \"chest_xray/train\"\n",
    "test_dir = \"chest_xray/test\"\n",
    "val_dir = \"chest_xray/val\"\n",
    "num_pneumonia = len(os.listdir(os.path.join(train_dir, 'PNEUMONIA')))\n",
    "num_normal = len(os.listdir(os.path.join(train_dir, 'NORMAL')))\n",
    "pneumonia = os.listdir(\"chest_xray/train/PNEUMONIA\")\n",
    "pneumonia_dir = \"chest_xray/train/PNEUMONIA\"\n",
    "normal = os.listdir(\"chest_xray/train/NORMAL\")\n",
    "normal_dir = \"chest_xray/train/NORMAL\""
   ]
  },
  {
   "cell_type": "code",
   "execution_count": 3,
   "id": "d16146c3",
   "metadata": {},
   "outputs": [
    {
     "name": "stdout",
     "output_type": "stream",
     "text": [
      "Found 5216 images belonging to 2 classes.\n",
      "Found 16 images belonging to 2 classes.\n",
      "Found 624 images belonging to 2 classes.\n"
     ]
    }
   ],
   "source": [
    "from keras.preprocessing.image import ImageDataGenerator\n",
    "\n",
    "image_generator = ImageDataGenerator(\n",
    "    rotation_range=25,\n",
    "    width_shift_range=0.2,\n",
    "    shear_range=0.2,\n",
    "    zoom_range=0.2,\n",
    "    samplewise_center=True,\n",
    "    samplewise_std_normalization=True\n",
    ")\n",
    "train = image_generator.flow_from_directory(train_dir, \n",
    "                                            batch_size=8, \n",
    "                                            shuffle=True, \n",
    "                                            class_mode='binary',\n",
    "                                            target_size=(180, 180))\n",
    "\n",
    "validation = image_generator.flow_from_directory(val_dir, \n",
    "                                                batch_size=1, \n",
    "                                                shuffle=False, \n",
    "                                                class_mode='binary',\n",
    "                                                target_size=(180, 180))\n",
    "\n",
    "test = image_generator.flow_from_directory(test_dir, \n",
    "                                            batch_size=1, \n",
    "                                            shuffle=False, \n",
    "                                            class_mode='binary',\n",
    "                                            target_size=(180, 180))"
   ]
  },
  {
   "cell_type": "code",
   "execution_count": 4,
   "id": "9c3bd150",
   "metadata": {},
   "outputs": [],
   "source": [
    "train_dataset = tf.data.Dataset.from_generator(lambda: train,\n",
    "                                               output_types=(tf.float32, tf.float32),\n",
    "                                               output_shapes=([None, 180, 180, 3], [None]))\n",
    "train_dataset = train_dataset.repeat()\n",
    "\n",
    "\n",
    "validation_dataset = tf.data.Dataset.from_generator(lambda: validation,\n",
    "                                               output_types=(tf.float32, tf.float32),\n",
    "                                               output_shapes=([None, 180, 180, 3], [None]))\n",
    "validation_dataset = validation_dataset.repeat()\n",
    "\n",
    "\n",
    "test_dataset = tf.data.Dataset.from_generator(lambda: test,\n",
    "                                               output_types=(tf.float32, tf.float32),\n",
    "                                               output_shapes=([None, 180, 180, 3], [None]))\n",
    "test_dataset = test_dataset.repeat()"
   ]
  },
  {
   "cell_type": "code",
   "execution_count": 5,
   "id": "409c0b50",
   "metadata": {},
   "outputs": [],
   "source": [
    "# Class weights\n",
    "\n",
    "weight_for_0 = num_pneumonia / (num_normal + num_pneumonia)\n",
    "weight_for_1 = num_normal / (num_normal + num_pneumonia)\n",
    "\n",
    "class_weight = {0: weight_for_0, 1: weight_for_1}"
   ]
  },
  {
   "cell_type": "code",
   "execution_count": 6,
   "id": "fc66de49",
   "metadata": {
    "scrolled": true
   },
   "outputs": [
    {
     "name": "stdout",
     "output_type": "stream",
     "text": [
      "Model: \"vgg16\"\n",
      "_________________________________________________________________\n",
      " Layer (type)                Output Shape              Param #   \n",
      "=================================================================\n",
      " input_1 (InputLayer)        [(None, 180, 180, 3)]     0         \n",
      "                                                                 \n",
      " block1_conv1 (Conv2D)       (None, 180, 180, 64)      1792      \n",
      "                                                                 \n",
      " block1_conv2 (Conv2D)       (None, 180, 180, 64)      36928     \n",
      "                                                                 \n",
      " block1_pool (MaxPooling2D)  (None, 90, 90, 64)        0         \n",
      "                                                                 \n",
      " block2_conv1 (Conv2D)       (None, 90, 90, 128)       73856     \n",
      "                                                                 \n",
      " block2_conv2 (Conv2D)       (None, 90, 90, 128)       147584    \n",
      "                                                                 \n",
      " block2_pool (MaxPooling2D)  (None, 45, 45, 128)       0         \n",
      "                                                                 \n",
      " block3_conv1 (Conv2D)       (None, 45, 45, 256)       295168    \n",
      "                                                                 \n",
      " block3_conv2 (Conv2D)       (None, 45, 45, 256)       590080    \n",
      "                                                                 \n",
      " block3_conv3 (Conv2D)       (None, 45, 45, 256)       590080    \n",
      "                                                                 \n",
      " block3_pool (MaxPooling2D)  (None, 22, 22, 256)       0         \n",
      "                                                                 \n",
      " block4_conv1 (Conv2D)       (None, 22, 22, 512)       1180160   \n",
      "                                                                 \n",
      " block4_conv2 (Conv2D)       (None, 22, 22, 512)       2359808   \n",
      "                                                                 \n",
      " block4_conv3 (Conv2D)       (None, 22, 22, 512)       2359808   \n",
      "                                                                 \n",
      " block4_pool (MaxPooling2D)  (None, 11, 11, 512)       0         \n",
      "                                                                 \n",
      " block5_conv1 (Conv2D)       (None, 11, 11, 512)       2359808   \n",
      "                                                                 \n",
      " block5_conv2 (Conv2D)       (None, 11, 11, 512)       2359808   \n",
      "                                                                 \n",
      " block5_conv3 (Conv2D)       (None, 11, 11, 512)       2359808   \n",
      "                                                                 \n",
      " block5_pool (MaxPooling2D)  (None, 5, 5, 512)         0         \n",
      "                                                                 \n",
      "=================================================================\n",
      "Total params: 14,714,688\n",
      "Trainable params: 14,714,688\n",
      "Non-trainable params: 0\n",
      "_________________________________________________________________\n"
     ]
    }
   ],
   "source": [
    "from keras.models import Sequential\n",
    "from keras.applications import VGG16\n",
    "from keras.applications.densenet import DenseNet121\n",
    "from keras.layers import Dense, GlobalAveragePooling2D, BatchNormalization, Dropout\n",
    "\n",
    "\n",
    "vgg16_base_model = VGG16(input_shape=(180,180,3),include_top=False,weights='imagenet')\n",
    "vgg16_base_model.summary()"
   ]
  },
  {
   "cell_type": "code",
   "execution_count": 7,
   "id": "7e88afe1",
   "metadata": {},
   "outputs": [],
   "source": [
    "vgg16_model = Sequential([\n",
    "        vgg16_base_model,\n",
    "        GlobalAveragePooling2D(),\n",
    "        Dense(512, activation=\"relu\"),\n",
    "        BatchNormalization(),\n",
    "        Dropout(0.6),\n",
    "        Dense(128, activation=\"relu\"),\n",
    "        BatchNormalization(),\n",
    "        Dropout(0.4),\n",
    "        Dense(64,activation=\"relu\"),\n",
    "        BatchNormalization(),\n",
    "        Dropout(0.3),\n",
    "        Dense(1,activation=\"sigmoid\")\n",
    "    ])\n",
    "    \n",
    "model = Sequential()\n",
    "model.add(vgg16_model.layers[0])\n",
    "opt = tf.keras.optimizers.Adam(learning_rate=0.001)\n",
    "METRICS = [\n",
    "    'accuracy',\n",
    "    tf.keras.metrics.Precision(name='precision'),\n",
    "    tf.keras.metrics.Recall(name='recall')\n",
    "]\n",
    "vgg16_model.compile(optimizer=opt,loss='binary_crossentropy',metrics=METRICS)\n",
    "    "
   ]
  },
  {
   "cell_type": "code",
   "execution_count": 8,
   "id": "d8bc83ad",
   "metadata": {
    "scrolled": true
   },
   "outputs": [
    {
     "name": "stdout",
     "output_type": "stream",
     "text": [
      "Epoch 1/30\n",
      "200/200 [==============================] - 1061s 5s/step - loss: 0.2697 - accuracy: 0.6475 - precision: 0.8735 - recall: 0.6151 - val_loss: 1.9816 - val_accuracy: 0.5500 - val_precision: 0.4706 - val_recall: 1.0000\n",
      "Epoch 2/30\n",
      "200/200 [==============================] - 1055s 5s/step - loss: 0.2238 - accuracy: 0.6869 - precision: 0.8966 - recall: 0.6488 - val_loss: 1.8765 - val_accuracy: 0.6250 - val_precision: 0.6154 - val_recall: 1.0000\n",
      "Epoch 3/30\n",
      "200/200 [==============================] - 1053s 5s/step - loss: 0.2060 - accuracy: 0.7200 - precision: 0.9139 - recall: 0.6877 - val_loss: 0.9760 - val_accuracy: 0.6250 - val_precision: 1.0000 - val_recall: 0.0625\n",
      "Epoch 4/30\n",
      "200/200 [==============================] - 1046s 5s/step - loss: 0.1978 - accuracy: 0.7556 - precision: 0.9193 - recall: 0.7486 - val_loss: 1.1208 - val_accuracy: 0.6750 - val_precision: 0.6486 - val_recall: 1.0000\n",
      "Epoch 5/30\n",
      "200/200 [==============================] - 1036s 5s/step - loss: 0.1783 - accuracy: 0.7794 - precision: 0.9157 - recall: 0.7750 - val_loss: 1.7330 - val_accuracy: 0.6000 - val_precision: 0.0000e+00 - val_recall: 0.0000e+00\n",
      "Epoch 6/30\n",
      "200/200 [==============================] - 1050s 5s/step - loss: 0.1897 - accuracy: 0.7756 - precision: 0.9161 - recall: 0.7637 - val_loss: 2.7813 - val_accuracy: 0.4000 - val_precision: 0.0000e+00 - val_recall: 0.0000e+00\n",
      "Epoch 7/30\n",
      "200/200 [==============================] - 1045s 5s/step - loss: 0.1760 - accuracy: 0.7881 - precision: 0.9321 - recall: 0.7684 - val_loss: 1.3807 - val_accuracy: 0.6000 - val_precision: 0.0000e+00 - val_recall: 0.0000e+00\n",
      "Epoch 8/30\n",
      "200/200 [==============================] - 1038s 5s/step - loss: 0.1797 - accuracy: 0.7719 - precision: 0.9147 - recall: 0.7565 - val_loss: 0.7131 - val_accuracy: 0.6750 - val_precision: 0.7037 - val_recall: 0.7917\n",
      "Epoch 9/30\n",
      "200/200 [==============================] - 1043s 5s/step - loss: 0.1558 - accuracy: 0.8144 - precision: 0.9498 - recall: 0.7969 - val_loss: 3.8588 - val_accuracy: 0.4000 - val_precision: 0.4000 - val_recall: 1.0000\n",
      "Epoch 10/30\n",
      "200/200 [==============================] - 1052s 5s/step - loss: 0.1631 - accuracy: 0.8275 - precision: 0.9365 - recall: 0.8226 - val_loss: 2.0359 - val_accuracy: 0.6000 - val_precision: 0.6000 - val_recall: 1.0000\n",
      "Epoch 11/30\n",
      "200/200 [==============================] - 1060s 5s/step - loss: 0.1609 - accuracy: 0.8087 - precision: 0.9387 - recall: 0.7988 - val_loss: 4.6733 - val_accuracy: 0.4000 - val_precision: 0.4000 - val_recall: 1.0000\n",
      "Epoch 12/30\n",
      "200/200 [==============================] - 1052s 5s/step - loss: 0.1642 - accuracy: 0.8062 - precision: 0.9364 - recall: 0.7931 - val_loss: 0.8054 - val_accuracy: 0.6500 - val_precision: 0.6316 - val_recall: 1.0000\n",
      "Epoch 13/30\n",
      "200/200 [==============================] - 1047s 5s/step - loss: 0.1689 - accuracy: 0.7850 - precision: 0.9239 - recall: 0.7690 - val_loss: 1.2177 - val_accuracy: 0.5500 - val_precision: 0.4706 - val_recall: 1.0000\n",
      "Epoch 14/30\n",
      "200/200 [==============================] - 1161s 6s/step - loss: 0.1578 - accuracy: 0.8106 - precision: 0.9358 - recall: 0.7993 - val_loss: 1.7316 - val_accuracy: 0.6000 - val_precision: 0.6000 - val_recall: 1.0000\n",
      "Epoch 15/30\n",
      "200/200 [==============================] - 1240s 6s/step - loss: 0.1717 - accuracy: 0.7819 - precision: 0.9273 - recall: 0.7650 - val_loss: 1.3252 - val_accuracy: 0.6000 - val_precision: 0.5000 - val_recall: 1.0000\n",
      "Epoch 16/30\n",
      "200/200 [==============================] - 1102s 6s/step - loss: 0.1570 - accuracy: 0.8125 - precision: 0.9404 - recall: 0.8012 - val_loss: 0.8813 - val_accuracy: 0.5750 - val_precision: 0.8889 - val_recall: 0.3333\n",
      "Epoch 17/30\n",
      "200/200 [==============================] - 1052s 5s/step - loss: 0.1455 - accuracy: 0.8213 - precision: 0.9460 - recall: 0.8065 - val_loss: 0.7522 - val_accuracy: 0.6000 - val_precision: 0.5000 - val_recall: 0.9375\n",
      "Epoch 18/30\n",
      "200/200 [==============================] - 1137s 6s/step - loss: 0.1438 - accuracy: 0.8356 - precision: 0.9444 - recall: 0.8245 - val_loss: 2.5581 - val_accuracy: 0.6000 - val_precision: 0.6000 - val_recall: 1.0000\n",
      "Epoch 19/30\n",
      "200/200 [==============================] - 1230s 6s/step - loss: 0.1475 - accuracy: 0.8169 - precision: 0.9374 - recall: 0.8102 - val_loss: 1.2501 - val_accuracy: 0.4750 - val_precision: 0.4324 - val_recall: 1.0000\n",
      "Epoch 20/30\n",
      "200/200 [==============================] - 1300s 7s/step - loss: 0.1566 - accuracy: 0.8025 - precision: 0.9336 - recall: 0.7878 - val_loss: 2.7636 - val_accuracy: 0.6000 - val_precision: 0.6000 - val_recall: 1.0000\n",
      "Epoch 21/30\n",
      "200/200 [==============================] - 1213s 6s/step - loss: 0.1459 - accuracy: 0.8169 - precision: 0.9525 - recall: 0.7929 - val_loss: 0.6321 - val_accuracy: 0.7000 - val_precision: 0.6111 - val_recall: 0.6875\n",
      "Epoch 22/30\n",
      "200/200 [==============================] - 1288s 6s/step - loss: 0.1365 - accuracy: 0.8381 - precision: 0.9476 - recall: 0.8299 - val_loss: 0.5105 - val_accuracy: 0.7500 - val_precision: 0.8182 - val_recall: 0.7500\n",
      "Epoch 23/30\n",
      "200/200 [==============================] - 1181s 6s/step - loss: 0.1396 - accuracy: 0.8456 - precision: 0.9522 - recall: 0.8347 - val_loss: 3.1058 - val_accuracy: 0.4000 - val_precision: 0.4000 - val_recall: 1.0000\n",
      "Epoch 24/30\n",
      "200/200 [==============================] - 1037s 5s/step - loss: 0.1422 - accuracy: 0.8356 - precision: 0.9507 - recall: 0.8227 - val_loss: 3.4646 - val_accuracy: 0.6000 - val_precision: 0.6000 - val_recall: 1.0000\n",
      "Epoch 25/30\n",
      "200/200 [==============================] - 1082s 5s/step - loss: 0.1335 - accuracy: 0.8438 - precision: 0.9545 - recall: 0.8293 - val_loss: 1.9804 - val_accuracy: 0.5250 - val_precision: 0.4571 - val_recall: 1.0000\n",
      "Epoch 26/30\n",
      "200/200 [==============================] - 1125s 6s/step - loss: 0.1398 - accuracy: 0.8406 - precision: 0.9527 - recall: 0.8237 - val_loss: 1.3470 - val_accuracy: 0.6750 - val_precision: 0.6486 - val_recall: 1.0000\n",
      "Epoch 27/30\n",
      "200/200 [==============================] - 1164s 6s/step - loss: 0.1294 - accuracy: 0.8462 - precision: 0.9558 - recall: 0.8326 - val_loss: 0.7657 - val_accuracy: 0.7000 - val_precision: 0.5769 - val_recall: 0.9375\n",
      "Epoch 28/30\n",
      "200/200 [==============================] - 1154s 6s/step - loss: 0.1369 - accuracy: 0.8475 - precision: 0.9527 - recall: 0.8383 - val_loss: 0.9993 - val_accuracy: 0.4500 - val_precision: 0.7500 - val_recall: 0.1250\n",
      "Epoch 29/30\n",
      "200/200 [==============================] - 1119s 6s/step - loss: 0.1323 - accuracy: 0.8556 - precision: 0.9522 - recall: 0.8428 - val_loss: 0.7886 - val_accuracy: 0.6500 - val_precision: 0.5333 - val_recall: 1.0000\n",
      "Epoch 30/30\n",
      "200/200 [==============================] - 1147s 6s/step - loss: 0.1136 - accuracy: 0.8719 - precision: 0.9622 - recall: 0.8642 - val_loss: 1.8043 - val_accuracy: 0.6000 - val_precision: 0.6000 - val_recall: 1.0000\n"
     ]
    }
   ],
   "source": [
    "r = vgg16_model.fit(train_dataset,\n",
    "          epochs=30,\n",
    "          validation_data=validation_dataset,\n",
    "          class_weight=class_weight,\n",
    "          steps_per_epoch=200,\n",
    "          validation_steps=40)"
   ]
  },
  {
   "cell_type": "code",
   "execution_count": 9,
   "id": "5a8ab836",
   "metadata": {},
   "outputs": [
    {
     "data": {
      "text/plain": [
       "Text(0.5, 1.0, 'Accuracy Evolution')"
      ]
     },
     "execution_count": 9,
     "metadata": {},
     "output_type": "execute_result"
    },
    {
     "data": {
      "image/png": "[encoded data removed]",
      "text/plain": [
       "<Figure size 1200x800 with 2 Axes>"
      ]
     },
     "metadata": {},
     "output_type": "display_data"
    }
   ],
   "source": [
    "plt.figure(figsize=(12, 8))\n",
    "\n",
    "plt.subplot(2, 2, 1)\n",
    "plt.plot(r.history['loss'], label='Loss')\n",
    "plt.legend()\n",
    "plt.title('Loss Evolution')\n",
    "\n",
    "plt.subplot(2, 2, 2)\n",
    "plt.plot(r.history['accuracy'], label='Accuracy')\n",
    "plt.legend()\n",
    "plt.title('Accuracy Evolution')"
   ]
  },
  {
   "cell_type": "code",
   "execution_count": 10,
   "id": "2d13ef5a",
   "metadata": {},
   "outputs": [
    {
     "name": "stdout",
     "output_type": "stream",
     "text": [
      "624/624 [==============================] - 125s 198ms/step - loss: 1.5934 - accuracy: 0.6250 - precision: 0.6250 - recall: 1.0000\n",
      "Test Accuracy: 62.50%\n",
      "652/652 [==============================] - 844s 1s/step - loss: 0.8318 - accuracy: 0.7437 - precision: 0.7435 - recall: 1.0000\n",
      "Train Accuracy: 74.37%\n"
     ]
    }
   ],
   "source": [
    "evaluation =vgg16_model.evaluate(test)\n",
    "print(f\"Test Accuracy: {evaluation[1] * 100:.2f}%\")\n",
    "\n",
    "evaluation = vgg16_model.evaluate(train)\n",
    "print(f\"Train Accuracy: {evaluation[1] * 100:.2f}%\")"
   ]
  },
  {
   "cell_type": "code",
   "execution_count": 13,
   "id": "a7209966",
   "metadata": {},
   "outputs": [
    {
     "name": "stdout",
     "output_type": "stream",
     "text": [
      "624/624 [==============================] - 124s 199ms/step\n",
      "[[145  89]\n",
      " [173 217]]\n",
      "              precision    recall  f1-score     support\n",
      "0              0.455975  0.619658  0.525362  234.000000\n",
      "1              0.709150  0.556410  0.623563  390.000000\n",
      "accuracy       0.580128  0.580128  0.580128    0.580128\n",
      "macro avg      0.582563  0.588034  0.574463  624.000000\n",
      "weighted avg   0.614210  0.580128  0.586738  624.000000\n"
     ]
    }
   ],
   "source": [
    "from sklearn.metrics import confusion_matrix, classification_report\n",
    "import pandas as pd\n",
    "\n",
    "pred = vgg16_model.predict(test)\n",
    "\n",
    "conf_mat = confusion_matrix(test.classes, pred > 0.5)\n",
    "print(conf_mat)\n",
    "\n",
    "class_report = classification_report(test.classes, pred > 0.5, output_dict=True)\n",
    "class_report_df = pd.DataFrame(class_report).transpose()\n",
    "print(class_report_df)\n"
   ]
  },
  {
   "cell_type": "code",
   "execution_count": 14,
   "id": "07fd0acf",
   "metadata": {},
   "outputs": [
    {
     "name": "stdout",
     "output_type": "stream",
     "text": [
      "WARNING:tensorflow:Compiled the loaded model, but the compiled metrics have yet to be built. `model.compile_metrics` will be empty until you train or evaluate the model.\n",
      "done\n"
     ]
    }
   ],
   "source": [
    "model.save('my_model_vggv2.h5')\n",
    "print(\"done\")"
   ]
  },
  {
   "cell_type": "code",
   "execution_count": null,
   "id": "f8708d4f",
   "metadata": {},
   "outputs": [],
   "source": [
    "#59.46/50.79\n",
    "#68.91/87.15"
   ]
  },
  {
   "cell_type": "code",
   "execution_count": null,
   "id": "20c4f41d",
   "metadata": {},
   "outputs": [],
   "source": []
  }
 ],
 "metadata": {
  "kernelspec": {
   "display_name": "Python 3 (ipykernel)",
   "language": "python",
   "name": "python3"
  },
  "language_info": {
   "codemirror_mode": {
    "name": "ipython",
    "version": 3
   },
   "file_extension": ".py",
   "mimetype": "text/x-python",
   "name": "python",
   "nbconvert_exporter": "python",
   "pygments_lexer": "ipython3",
   "version": "3.10.9"
  }
 },
 "nbformat": 4,
 "nbformat_minor": 5
}
