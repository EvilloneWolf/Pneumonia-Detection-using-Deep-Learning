{
 "cells": [
  {
   "cell_type": "code",
   "execution_count": 1,
   "id": "a5f4b459",
   "metadata": {},
   "outputs": [],
   "source": [
    "import os\n",
    "import numpy as np\n",
    "import pandas as pd \n",
    "import matplotlib.pyplot as plt\n",
    "import seaborn as sns\n",
    "import tensorflow as tf\n",
    "from tensorflow import keras"
   ]
  },
  {
   "cell_type": "code",
   "execution_count": 13,
   "id": "b0027391",
   "metadata": {},
   "outputs": [
    {
     "name": "stdout",
     "output_type": "stream",
     "text": [
      "Num GPUs Available:  0\n"
     ]
    }
   ],
   "source": [
    "import tensorflow as tf\n",
    "tf.config.list_physical_devices('GPU') \n",
    "print(\"Num GPUs Available: \", len(tf.config.list_physical_devices('GPU')))"
   ]
  },
  {
   "cell_type": "code",
   "execution_count": 2,
   "id": "3d0acbc3",
   "metadata": {},
   "outputs": [],
   "source": [
    "train_dir = \"chest_xray/train\"\n",
    "test_dir = \"chest_xray/test\"\n",
    "val_dir = \"chest_xray/val\"\n",
    "num_pneumonia = len(os.listdir(os.path.join(train_dir, 'PNEUMONIA')))\n",
    "num_normal = len(os.listdir(os.path.join(train_dir, 'NORMAL')))\n",
    "pneumonia = os.listdir(\"chest_xray/train/PNEUMONIA\")\n",
    "pneumonia_dir = \"chest_xray/train/PNEUMONIA\"\n",
    "normal = os.listdir(\"chest_xray/train/NORMAL\")\n",
    "normal_dir = \"chest_xray/train/NORMAL\""
   ]
  },
  {
   "cell_type": "code",
   "execution_count": 3,
   "id": "faa27cbb",
   "metadata": {},
   "outputs": [
    {
     "name": "stdout",
     "output_type": "stream",
     "text": [
      "Found 5216 images belonging to 2 classes.\n",
      "Found 16 images belonging to 2 classes.\n",
      "Found 624 images belonging to 2 classes.\n"
     ]
    }
   ],
   "source": [
    "from keras.preprocessing.image import ImageDataGenerator\n",
    "\n",
    "image_generator = ImageDataGenerator(\n",
    "    rotation_range=25,\n",
    "    width_shift_range=0.2,\n",
    "    shear_range=0.2,\n",
    "    zoom_range=0.2,\n",
    "    samplewise_center=True,\n",
    "    samplewise_std_normalization=True\n",
    ")\n",
    "train = image_generator.flow_from_directory(train_dir, \n",
    "                                            batch_size=8, \n",
    "                                            shuffle=True, \n",
    "                                            class_mode='binary',\n",
    "                                            target_size=(180, 180))\n",
    "\n",
    "validation = image_generator.flow_from_directory(val_dir, \n",
    "                                                batch_size=1, \n",
    "                                                shuffle=False, \n",
    "                                                class_mode='binary',\n",
    "                                                target_size=(180, 180))\n",
    "\n",
    "test = image_generator.flow_from_directory(test_dir, \n",
    "                                            batch_size=1, \n",
    "                                            shuffle=False, \n",
    "                                            class_mode='binary',\n",
    "                                            target_size=(180, 180))"
   ]
  },
  {
   "cell_type": "code",
   "execution_count": 4,
   "id": "0df53a62",
   "metadata": {},
   "outputs": [],
   "source": [
    "train_dataset = tf.data.Dataset.from_generator(lambda: train,\n",
    "                                               output_types=(tf.float32, tf.float32),\n",
    "                                               output_shapes=([None, 180, 180, 3], [None]))\n",
    "train_dataset = train_dataset.repeat()\n",
    "\n",
    "\n",
    "validation_dataset = tf.data.Dataset.from_generator(lambda: validation,\n",
    "                                               output_types=(tf.float32, tf.float32),\n",
    "                                               output_shapes=([None, 180, 180, 3], [None]))\n",
    "validation_dataset = validation_dataset.repeat()\n",
    "\n",
    "\n",
    "test_dataset = tf.data.Dataset.from_generator(lambda: test,\n",
    "                                               output_types=(tf.float32, tf.float32),\n",
    "                                               output_shapes=([None, 180, 180, 3], [None]))\n",
    "test_dataset = test_dataset.repeat()"
   ]
  },
  {
   "cell_type": "code",
   "execution_count": 5,
   "id": "4277d591",
   "metadata": {},
   "outputs": [],
   "source": [
    "# Class weights\n",
    "\n",
    "weight_for_0 = num_pneumonia / (num_normal + num_pneumonia)\n",
    "weight_for_1 = num_normal / (num_normal + num_pneumonia)\n",
    "\n",
    "class_weight = {0: weight_for_0, 1: weight_for_1}"
   ]
  },
  {
   "cell_type": "code",
   "execution_count": 6,
   "id": "14861a03",
   "metadata": {
    "scrolled": true
   },
   "outputs": [
    {
     "name": "stdout",
     "output_type": "stream",
     "text": [
      "Model: \"sequential\"\n",
      "_________________________________________________________________\n",
      " Layer (type)                Output Shape              Param #   \n",
      "=================================================================\n",
      " conv2d (Conv2D)             (None, 178, 178, 64)      1792      \n",
      "                                                                 \n",
      " batch_normalization (BatchN  (None, 178, 178, 64)     256       \n",
      " ormalization)                                                   \n",
      "                                                                 \n",
      " conv2d_1 (Conv2D)           (None, 176, 176, 64)      36928     \n",
      "                                                                 \n",
      " batch_normalization_1 (Batc  (None, 176, 176, 64)     256       \n",
      " hNormalization)                                                 \n",
      "                                                                 \n",
      " max_pooling2d (MaxPooling2D  (None, 88, 88, 64)       0         \n",
      " )                                                               \n",
      "                                                                 \n",
      " conv2d_2 (Conv2D)           (None, 86, 86, 128)       73856     \n",
      "                                                                 \n",
      " batch_normalization_2 (Batc  (None, 86, 86, 128)      512       \n",
      " hNormalization)                                                 \n",
      "                                                                 \n",
      " conv2d_3 (Conv2D)           (None, 84, 84, 128)       147584    \n",
      "                                                                 \n",
      " batch_normalization_3 (Batc  (None, 84, 84, 128)      512       \n",
      " hNormalization)                                                 \n",
      "                                                                 \n",
      " max_pooling2d_1 (MaxPooling  (None, 42, 42, 128)      0         \n",
      " 2D)                                                             \n",
      "                                                                 \n",
      " conv2d_4 (Conv2D)           (None, 40, 40, 256)       295168    \n",
      "                                                                 \n",
      " batch_normalization_4 (Batc  (None, 40, 40, 256)      1024      \n",
      " hNormalization)                                                 \n",
      "                                                                 \n",
      " conv2d_5 (Conv2D)           (None, 38, 38, 256)       590080    \n",
      "                                                                 \n",
      " batch_normalization_5 (Batc  (None, 38, 38, 256)      1024      \n",
      " hNormalization)                                                 \n",
      "                                                                 \n",
      " max_pooling2d_2 (MaxPooling  (None, 19, 19, 256)      0         \n",
      " 2D)                                                             \n",
      "                                                                 \n",
      " flatten (Flatten)           (None, 92416)             0         \n",
      "                                                                 \n",
      " dense (Dense)               (None, 512)               47317504  \n",
      "                                                                 \n",
      " dropout (Dropout)           (None, 512)               0         \n",
      "                                                                 \n",
      " dense_1 (Dense)             (None, 1)                 513       \n",
      "                                                                 \n",
      "=================================================================\n",
      "Total params: 48,467,009\n",
      "Trainable params: 48,465,217\n",
      "Non-trainable params: 1,792\n",
      "_________________________________________________________________\n"
     ]
    }
   ],
   "source": [
    "from keras.models import Sequential\n",
    "from keras.layers import Dense, Conv2D, MaxPool2D, Dropout, Flatten, BatchNormalization\n",
    "\n",
    "\n",
    "model = Sequential()\n",
    "\n",
    "model.add(Conv2D(filters=64, kernel_size=(3, 3), input_shape=(180, 180, 3), activation='relu'))\n",
    "model.add(BatchNormalization())\n",
    "model.add(Conv2D(filters=64, kernel_size=(3, 3), input_shape=(180, 180, 3), activation='relu'))\n",
    "model.add(BatchNormalization())\n",
    "model.add(MaxPool2D(pool_size=(2, 2)))\n",
    "\n",
    "model.add(Conv2D(filters=128, kernel_size=(3, 3), activation='relu'))\n",
    "model.add(BatchNormalization())\n",
    "model.add(Conv2D(filters=128, kernel_size=(3, 3), activation='relu'))\n",
    "model.add(BatchNormalization())\n",
    "model.add(MaxPool2D(pool_size=(2, 2)))\n",
    "\n",
    "model.add(Conv2D(filters=256, kernel_size=(3, 3), activation='relu'))\n",
    "model.add(BatchNormalization())\n",
    "model.add(Conv2D(filters=256, kernel_size=(3, 3), activation='relu'))\n",
    "model.add(BatchNormalization())\n",
    "model.add(MaxPool2D(pool_size=(2, 2)))\n",
    "\n",
    "model.add(Flatten())\n",
    "model.add(Dense(512, activation='relu'))\n",
    "model.add(Dropout(0.4))#Dropout\n",
    "\n",
    "model.add(Dense(1, activation='sigmoid'))\n",
    "\n",
    "model.compile(loss='binary_crossentropy', \n",
    "              optimizer='adam', \n",
    "              metrics=['accuracy'])\n",
    "model.summary()"
   ]
  },
  {
   "cell_type": "code",
   "execution_count": 7,
   "id": "8b911d51",
   "metadata": {},
   "outputs": [
    {
     "name": "stdout",
     "output_type": "stream",
     "text": [
      "The model has 19 layers\n"
     ]
    }
   ],
   "source": [
    "layers = model.layers\n",
    "print(f\"The model has {len(layers)} layers\")"
   ]
  },
  {
   "cell_type": "code",
   "execution_count": 8,
   "id": "a3d93243",
   "metadata": {},
   "outputs": [
    {
     "name": "stdout",
     "output_type": "stream",
     "text": [
      "Epoch 1/10\n",
      "200/200 [==============================] - 777s 4s/step - loss: 4.0232 - accuracy: 0.7569 - val_loss: 87.9829 - val_accuracy: 0.4000\n",
      "Epoch 2/10\n",
      "200/200 [==============================] - 798s 4s/step - loss: 1.7213 - accuracy: 0.7894 - val_loss: 9.8492 - val_accuracy: 0.5500\n",
      "Epoch 3/10\n",
      "200/200 [==============================] - 795s 4s/step - loss: 0.7415 - accuracy: 0.8338 - val_loss: 26.4505 - val_accuracy: 0.4250\n",
      "Epoch 4/10\n",
      "200/200 [==============================] - 770s 4s/step - loss: 0.6378 - accuracy: 0.8006 - val_loss: 4.2007 - val_accuracy: 0.6500\n",
      "Epoch 5/10\n",
      "200/200 [==============================] - 760s 4s/step - loss: 0.4903 - accuracy: 0.8119 - val_loss: 8.3227 - val_accuracy: 0.4750\n",
      "Epoch 6/10\n",
      "200/200 [==============================] - 777s 4s/step - loss: 0.2653 - accuracy: 0.8256 - val_loss: 2.0670 - val_accuracy: 0.6500\n",
      "Epoch 7/10\n",
      "200/200 [==============================] - 797s 4s/step - loss: 0.2249 - accuracy: 0.8300 - val_loss: 1.3749 - val_accuracy: 0.6000\n",
      "Epoch 8/10\n",
      "200/200 [==============================] - 809s 4s/step - loss: 0.3247 - accuracy: 0.7919 - val_loss: 1.3174 - val_accuracy: 0.6000\n",
      "Epoch 9/10\n",
      "200/200 [==============================] - 768s 4s/step - loss: 0.1654 - accuracy: 0.8294 - val_loss: 1.1787 - val_accuracy: 0.5250\n",
      "Epoch 10/10\n",
      "200/200 [==============================] - 785s 4s/step - loss: 0.1568 - accuracy: 0.8188 - val_loss: 1.5736 - val_accuracy: 0.6750\n"
     ]
    }
   ],
   "source": [
    "r = model.fit(\n",
    "    train_dataset, \n",
    "    epochs=10,\n",
    "    validation_data=validation_dataset, \n",
    "    class_weight=class_weight,\n",
    "    steps_per_epoch=200,\n",
    "    validation_steps=40,\n",
    ")"
   ]
  },
  {
   "cell_type": "code",
   "execution_count": 9,
   "id": "1bb90719",
   "metadata": {},
   "outputs": [
    {
     "data": {
      "text/plain": [
       "Text(0.5, 1.0, 'Accuracy Evolution')"
      ]
     },
     "execution_count": 9,
     "metadata": {},
     "output_type": "execute_result"
    },
    {
     "data": {
      "image/png": "[encoded data removed]",
      "text/plain": [
       "<Figure size 1200x800 with 2 Axes>"
      ]
     },
     "metadata": {},
     "output_type": "display_data"
    }
   ],
   "source": [
    "plt.figure(figsize=(12, 8))\n",
    "\n",
    "plt.subplot(2, 2, 1)\n",
    "plt.plot(r.history['loss'], label='Loss')\n",
    "#plt.plot(r.history['val_loss'], label='Val_Loss')\n",
    "plt.legend()\n",
    "plt.title('Loss Evolution')\n",
    "\n",
    "plt.subplot(2, 2, 2)\n",
    "plt.plot(r.history['accuracy'], label='Accuracy')\n",
    "#plt.plot(r.history['val_accuracy'], label='Val_Accuracy')\n",
    "plt.legend()\n",
    "plt.title('Accuracy Evolution')"
   ]
  },
  {
   "cell_type": "code",
   "execution_count": 10,
   "id": "a1b7d754",
   "metadata": {},
   "outputs": [
    {
     "name": "stdout",
     "output_type": "stream",
     "text": [
      "624/624 [==============================] - 77s 122ms/step - loss: 1.0043 - accuracy: 0.6891\n",
      "Test Accuracy: 68.91%\n",
      "652/652 [==============================] - 522s 801ms/step - loss: 0.4805 - accuracy: 0.8520\n",
      "Train Accuracy: 85.20%\n"
     ]
    }
   ],
   "source": [
    "evaluation = model.evaluate(test)\n",
    "print(f\"Test Accuracy: {evaluation[1] * 100:.2f}%\")\n",
    "\n",
    "evaluation = model.evaluate(train)\n",
    "print(f\"Train Accuracy: {evaluation[1] * 100:.2f}%\")"
   ]
  },
  {
   "cell_type": "code",
   "execution_count": 15,
   "id": "42225a92",
   "metadata": {},
   "outputs": [
    {
     "name": "stdout",
     "output_type": "stream",
     "text": [
      "624/624 [==============================] - 20s 32ms/step\n",
      "[[ 45 189]\n",
      " [  1 389]]\n",
      "              precision    recall  f1-score     support\n",
      "0              0.978261  0.192308  0.321429  234.000000\n",
      "1              0.673010  0.997436  0.803719  390.000000\n",
      "accuracy       0.695513  0.695513  0.695513    0.695513\n",
      "macro avg      0.825636  0.594872  0.562574  624.000000\n",
      "weighted avg   0.787479  0.695513  0.622860  624.000000\n"
     ]
    }
   ],
   "source": [
    "from sklearn.metrics import confusion_matrix, classification_report\n",
    "import pandas as pd\n",
    "\n",
    "pred = model.predict(test)\n",
    "\n",
    "conf_mat = confusion_matrix(test.classes, pred > 0.5)\n",
    "print(conf_mat)\n",
    "\n",
    "class_report = classification_report(test.classes, pred > 0.5, output_dict=True)\n",
    "class_report_df = pd.DataFrame(class_report).transpose()\n",
    "print(class_report_df)\n",
    "\n"
   ]
  },
  {
   "cell_type": "code",
   "execution_count": 16,
   "id": "65335b88",
   "metadata": {},
   "outputs": [],
   "source": [
    "model.save('my_model_sq.h5')"
   ]
  },
  {
   "cell_type": "code",
   "execution_count": null,
   "id": "386cb658",
   "metadata": {},
   "outputs": [],
   "source": []
  }
 ],
 "metadata": {
  "kernelspec": {
   "display_name": "Python 3 (ipykernel)",
   "language": "python",
   "name": "python3"
  },
  "language_info": {
   "codemirror_mode": {
    "name": "ipython",
    "version": 3
   },
   "file_extension": ".py",
   "mimetype": "text/x-python",
   "name": "python",
   "nbconvert_exporter": "python",
   "pygments_lexer": "ipython3",
   "version": "3.10.9"
  }
 },
 "nbformat": 4,
 "nbformat_minor": 5
}
